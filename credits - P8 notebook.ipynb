{
 "cells": [
  {
   "cell_type": "markdown",
   "metadata": {},
   "source": [
    "![image](https://github.com/IBM/watson-machine-learning-samples/raw/master/cloud/notebooks/headers/AutoAI-Banner_Pipeline-Notebook.png)\n",
    "# Pipeline 8 Notebook - AutoAI Notebook v1.15.6\n",
    "\n",
    "Consider these tips for working with an auto-generated notebook:\n",
    "- Notebook code generated using AutoAI will execute successfully. If you modify the notebook, we cannot guarantee it will run successfully.\n",
    "- This pipeline is optimized for the original data set. The pipeline might fail or produce sub-optimum results if used with different data.  If you want to use a different data set, consider retraining the AutoAI experiment to generate a new pipeline. For more information, see <a href=\"https://dataplatform.cloud.ibm.com/docs/content/wsj/analyze-data/autoai-notebook.html\">Cloud Platform</a>. \n",
    "- Before modifying the pipeline or trying to re-fit the pipeline, consider that the code converts dataframes to numpy arrays before fitting the pipeline (a current restriction of the preprocessor pipeline).\n"
   ]
  },
  {
   "cell_type": "markdown",
   "metadata": {},
   "source": [
    "<a id=\"content\"></a>\n",
    "## Notebook content\n",
    "\n",
    "This notebook contains a Scikit-learn representation of AutoAI pipeline. This notebook introduces commands for getting data, training the model, and testing the model. \n",
    "\n",
    "Some familiarity with Python is helpful. This notebook uses Python 3.8 and scikit-learn 0.23.2."
   ]
  },
  {
   "cell_type": "markdown",
   "metadata": {
    "pycharm": {
     "name": "#%% md\n"
    }
   },
   "source": [
    "## Notebook goals\n",
    "\n",
    "-  Scikit-learn pipeline definition\n",
    "-  Pipeline training \n",
    "-  Pipeline evaluation\n",
    "\n",
    "## Contents\n",
    "\n",
    "This notebook contains the following parts:\n",
    "\n",
    "**[Setup](#setup)**<br>\n",
    "&nbsp;&nbsp;[Package installation](#install)<br>\n",
    "&nbsp;&nbsp;[AutoAI experiment metadata](#variables_definition)<br>\n",
    "&nbsp;&nbsp;[Watson Machine Learning connection](#connection)<br>\n",
    "**[Pipeline inspection](#inspection)** <br>\n",
    "&nbsp;&nbsp;[Read training data](#read)<br>\n",
    "&nbsp;&nbsp;[Train and test data split](#split)<br>\n",
    "&nbsp;&nbsp;[Make pipeline](#preview_model_to_python_code)<br>\n",
    "&nbsp;&nbsp;[Train pipeline model](#train)<br>\n",
    "&nbsp;&nbsp;[Test pipeline model](#test_model)<br>\n",
    "**[Next steps](#next_steps)**<br>\n",
    "**[Copyrights](#copyrights)**"
   ]
  },
  {
   "cell_type": "markdown",
   "metadata": {},
   "source": [
    "<a id=\"setup\"></a>\n",
    "# Setup"
   ]
  },
  {
   "cell_type": "markdown",
   "metadata": {},
   "source": [
    "<a id=\"install\"></a>\n",
    "## Package installation\n",
    "Before you use the sample code in this notebook, install the following packages:\n",
    " - ibm_watson_machine_learning,\n",
    " - autoai-libs,\n",
    " - scikit-learn,\n",
    " - lightgbm.\n"
   ]
  },
  {
   "cell_type": "code",
   "execution_count": 1,
   "metadata": {
    "execution": {
     "iopub.execute_input": "2020-10-12T14:00:45.009458Z",
     "iopub.status.busy": "2020-10-12T14:00:45.007968Z",
     "iopub.status.idle": "2020-10-12T14:00:46.037702Z",
     "shell.execute_reply": "2020-10-12T14:00:46.038270Z"
    },
    "pycharm": {
     "name": "#%%\n"
    },
    "scrolled": true
   },
   "outputs": [
    {
     "name": "stdout",
     "output_type": "stream",
     "text": [
      "Requirement already up-to-date: autoai-libs==1.12.13 in c:\\users\\kacpe\\desktop\\przedmioty zawodowe\\aplikacje desktopowe\\venv\\lib\\site-packages (1.12.13)\n",
      "Requirement already satisfied, skipping upgrade: scikit-learn<0.24,>=0.20.3 in c:\\users\\kacpe\\desktop\\przedmioty zawodowe\\aplikacje desktopowe\\venv\\lib\\site-packages (from autoai-libs==1.12.13) (0.23.2)\n",
      "Requirement already satisfied, skipping upgrade: pandas<1.3,>=0.24.2 in c:\\users\\kacpe\\desktop\\przedmioty zawodowe\\aplikacje desktopowe\\venv\\lib\\site-packages (from autoai-libs==1.12.13) (1.2.5)\n",
      "Requirement already satisfied, skipping upgrade: numpy==1.19.2 in c:\\users\\kacpe\\desktop\\przedmioty zawodowe\\aplikacje desktopowe\\venv\\lib\\site-packages (from autoai-libs==1.12.13) (1.19.2)\n",
      "Requirement already satisfied, skipping upgrade: gensim==3.8.3 in c:\\users\\kacpe\\desktop\\przedmioty zawodowe\\aplikacje desktopowe\\venv\\lib\\site-packages (from autoai-libs==1.12.13) (3.8.3)\n",
      "Requirement already satisfied, skipping upgrade: scipy>=0.19.1 in c:\\users\\kacpe\\desktop\\przedmioty zawodowe\\aplikacje desktopowe\\venv\\lib\\site-packages (from scikit-learn<0.24,>=0.20.3->autoai-libs==1.12.13) (1.7.1)\n",
      "Requirement already satisfied, skipping upgrade: joblib>=0.11 in c:\\users\\kacpe\\desktop\\przedmioty zawodowe\\aplikacje desktopowe\\venv\\lib\\site-packages (from scikit-learn<0.24,>=0.20.3->autoai-libs==1.12.13) (1.1.0)\n",
      "Requirement already satisfied, skipping upgrade: threadpoolctl>=2.0.0 in c:\\users\\kacpe\\desktop\\przedmioty zawodowe\\aplikacje desktopowe\\venv\\lib\\site-packages (from scikit-learn<0.24,>=0.20.3->autoai-libs==1.12.13) (3.0.0)\n",
      "Requirement already satisfied, skipping upgrade: python-dateutil>=2.7.3 in c:\\users\\kacpe\\desktop\\przedmioty zawodowe\\aplikacje desktopowe\\venv\\lib\\site-packages (from pandas<1.3,>=0.24.2->autoai-libs==1.12.13) (2.8.1)\n",
      "Requirement already satisfied, skipping upgrade: pytz>=2017.3 in c:\\users\\kacpe\\desktop\\przedmioty zawodowe\\aplikacje desktopowe\\venv\\lib\\site-packages (from pandas<1.3,>=0.24.2->autoai-libs==1.12.13) (2021.3)\n",
      "Requirement already satisfied, skipping upgrade: Cython==0.29.14 in c:\\users\\kacpe\\desktop\\przedmioty zawodowe\\aplikacje desktopowe\\venv\\lib\\site-packages (from gensim==3.8.3->autoai-libs==1.12.13) (0.29.14)\n",
      "Requirement already satisfied, skipping upgrade: smart-open>=1.8.1 in c:\\users\\kacpe\\desktop\\przedmioty zawodowe\\aplikacje desktopowe\\venv\\lib\\site-packages (from gensim==3.8.3->autoai-libs==1.12.13) (5.2.1)\n",
      "Requirement already satisfied, skipping upgrade: six>=1.5.0 in c:\\users\\kacpe\\desktop\\przedmioty zawodowe\\aplikacje desktopowe\\venv\\lib\\site-packages (from gensim==3.8.3->autoai-libs==1.12.13) (1.15.0)\n"
     ]
    },
    {
     "name": "stderr",
     "output_type": "stream",
     "text": [
      "WARNING: You are using pip version 20.2.3; however, version 21.3.1 is available.\n",
      "You should consider upgrading via the 'c:\\users\\kacpe\\desktop\\przedmioty zawodowe\\aplikacje desktopowe\\venv\\scripts\\python.exe -m pip install --upgrade pip' command.\n"
     ]
    },
    {
     "name": "stdout",
     "output_type": "stream",
     "text": [
      "Requirement already up-to-date: scikit-learn==0.23.2 in c:\\users\\kacpe\\desktop\\przedmioty zawodowe\\aplikacje desktopowe\\venv\\lib\\site-packages (0.23.2)\n",
      "Requirement already satisfied, skipping upgrade: scipy>=0.19.1 in c:\\users\\kacpe\\desktop\\przedmioty zawodowe\\aplikacje desktopowe\\venv\\lib\\site-packages (from scikit-learn==0.23.2) (1.7.1)\n",
      "Requirement already satisfied, skipping upgrade: numpy>=1.13.3 in c:\\users\\kacpe\\desktop\\przedmioty zawodowe\\aplikacje desktopowe\\venv\\lib\\site-packages (from scikit-learn==0.23.2) (1.19.2)\n",
      "Requirement already satisfied, skipping upgrade: joblib>=0.11 in c:\\users\\kacpe\\desktop\\przedmioty zawodowe\\aplikacje desktopowe\\venv\\lib\\site-packages (from scikit-learn==0.23.2) (1.1.0)\n",
      "Requirement already satisfied, skipping upgrade: threadpoolctl>=2.0.0 in c:\\users\\kacpe\\desktop\\przedmioty zawodowe\\aplikacje desktopowe\\venv\\lib\\site-packages (from scikit-learn==0.23.2) (3.0.0)\n"
     ]
    },
    {
     "name": "stderr",
     "output_type": "stream",
     "text": [
      "WARNING: You are using pip version 20.2.3; however, version 21.3.1 is available.\n",
      "You should consider upgrading via the 'c:\\users\\kacpe\\desktop\\przedmioty zawodowe\\aplikacje desktopowe\\venv\\scripts\\python.exe -m pip install --upgrade pip' command.\n"
     ]
    },
    {
     "name": "stdout",
     "output_type": "stream",
     "text": [
      "Requirement already up-to-date: lightgbm==3.1.1 in c:\\users\\kacpe\\desktop\\przedmioty zawodowe\\aplikacje desktopowe\\venv\\lib\\site-packages (3.1.1)\n",
      "Requirement already satisfied, skipping upgrade: scikit-learn!=0.22.0 in c:\\users\\kacpe\\desktop\\przedmioty zawodowe\\aplikacje desktopowe\\venv\\lib\\site-packages (from lightgbm==3.1.1) (0.23.2)\n",
      "Requirement already satisfied, skipping upgrade: wheel in c:\\users\\kacpe\\desktop\\przedmioty zawodowe\\aplikacje desktopowe\\venv\\lib\\site-packages (from lightgbm==3.1.1) (0.37.0)\n",
      "Requirement already satisfied, skipping upgrade: scipy in c:\\users\\kacpe\\desktop\\przedmioty zawodowe\\aplikacje desktopowe\\venv\\lib\\site-packages (from lightgbm==3.1.1) (1.7.1)\n",
      "Requirement already satisfied, skipping upgrade: numpy in c:\\users\\kacpe\\desktop\\przedmioty zawodowe\\aplikacje desktopowe\\venv\\lib\\site-packages (from lightgbm==3.1.1) (1.19.2)\n",
      "Requirement already satisfied, skipping upgrade: joblib>=0.11 in c:\\users\\kacpe\\desktop\\przedmioty zawodowe\\aplikacje desktopowe\\venv\\lib\\site-packages (from scikit-learn!=0.22.0->lightgbm==3.1.1) (1.1.0)\n",
      "Requirement already satisfied, skipping upgrade: threadpoolctl>=2.0.0 in c:\\users\\kacpe\\desktop\\przedmioty zawodowe\\aplikacje desktopowe\\venv\\lib\\site-packages (from scikit-learn!=0.22.0->lightgbm==3.1.1) (3.0.0)\n"
     ]
    },
    {
     "name": "stderr",
     "output_type": "stream",
     "text": [
      "WARNING: You are using pip version 20.2.3; however, version 21.3.1 is available.\n",
      "You should consider upgrading via the 'c:\\users\\kacpe\\desktop\\przedmioty zawodowe\\aplikacje desktopowe\\venv\\scripts\\python.exe -m pip install --upgrade pip' command.\n"
     ]
    },
    {
     "name": "stdout",
     "output_type": "stream",
     "text": [
      "Requirement already satisfied: pandas in c:\\users\\kacpe\\desktop\\przedmioty zawodowe\\aplikacje desktopowe\\venv\\lib\\site-packages (1.2.5)"
     ]
    },
    {
     "name": "stderr",
     "output_type": "stream",
     "text": [
      "WARNING: You are using pip version 20.2.3; however, version 21.3.1 is available.\n",
      "You should consider upgrading via the 'c:\\users\\kacpe\\desktop\\przedmioty zawodowe\\aplikacje desktopowe\\venv\\scripts\\python.exe -m pip install --upgrade pip' command.\n"
     ]
    },
    {
     "name": "stdout",
     "output_type": "stream",
     "text": [
      "\n",
      "Requirement already satisfied: python-dateutil>=2.7.3 in c:\\users\\kacpe\\desktop\\przedmioty zawodowe\\aplikacje desktopowe\\venv\\lib\\site-packages (from pandas) (2.8.1)\n",
      "Requirement already satisfied: numpy>=1.16.5 in c:\\users\\kacpe\\desktop\\przedmioty zawodowe\\aplikacje desktopowe\\venv\\lib\\site-packages (from pandas) (1.19.2)\n",
      "Requirement already satisfied: pytz>=2017.3 in c:\\users\\kacpe\\desktop\\przedmioty zawodowe\\aplikacje desktopowe\\venv\\lib\\site-packages (from pandas) (2021.3)\n",
      "Requirement already satisfied: six>=1.5 in c:\\users\\kacpe\\desktop\\przedmioty zawodowe\\aplikacje desktopowe\\venv\\lib\\site-packages (from python-dateutil>=2.7.3->pandas) (1.15.0)\n",
      "Requirement already satisfied: lale==0.5.3 in c:\\users\\kacpe\\desktop\\przedmioty zawodowe\\aplikacje desktopowe\\venv\\lib\\site-packages (0.5.3)\n",
      "Requirement already satisfied: black==19.10b0 in c:\\users\\kacpe\\desktop\\przedmioty zawodowe\\aplikacje desktopowe\\venv\\lib\\site-packages (from lale==0.5.3) (19.10b0)\n",
      "Requirement already satisfied: astunparse in c:\\users\\kacpe\\desktop\\przedmioty zawodowe\\aplikacje desktopowe\\venv\\lib\\site-packages (from lale==0.5.3) (1.6.3)\n",
      "Requirement already satisfied: pandas in c:\\users\\kacpe\\desktop\\przedmioty zawodowe\\aplikacje desktopowe\\venv\\lib\\site-packages (from lale==0.5.3) (1.2.5)\n",
      "Requirement already satisfied: jsonsubschema in c:\\users\\kacpe\\desktop\\przedmioty zawodowe\\aplikacje desktopowe\\venv\\lib\\site-packages (from lale==0.5.3) (0.0.5)\n",
      "Requirement already satisfied: scikit-learn>=0.20.3 in c:\\users\\kacpe\\desktop\\przedmioty zawodowe\\aplikacje desktopowe\\venv\\lib\\site-packages (from lale==0.5.3) (0.23.2)\n",
      "Requirement already satisfied: graphviz in c:\\users\\kacpe\\desktop\\przedmioty zawodowe\\aplikacje desktopowe\\venv\\lib\\site-packages (from lale==0.5.3) (0.17)\n",
      "Requirement already satisfied: decorator in c:\\users\\kacpe\\desktop\\przedmioty zawodowe\\aplikacje desktopowe\\venv\\lib\\site-packages (from lale==0.5.3) (5.1.0)\n",
      "Requirement already satisfied: scipy in c:\\users\\kacpe\\desktop\\przedmioty zawodowe\\aplikacje desktopowe\\venv\\lib\\site-packages (from lale==0.5.3) (1.7.1)\n",
      "Requirement already satisfied: h5py in c:\\users\\kacpe\\desktop\\przedmioty zawodowe\\aplikacje desktopowe\\venv\\lib\\site-packages (from lale==0.5.3) (3.5.0)\n",
      "Requirement already satisfied: numpy in c:\\users\\kacpe\\desktop\\przedmioty zawodowe\\aplikacje desktopowe\\venv\\lib\\site-packages (from lale==0.5.3) (1.19.2)\n",
      "Requirement already satisfied: hyperopt in c:\\users\\kacpe\\desktop\\przedmioty zawodowe\\aplikacje desktopowe\\venv\\lib\\site-packages (from lale==0.5.3) (0.2.5)\n",
      "Requirement already satisfied: jsonschema in c:\\users\\kacpe\\desktop\\przedmioty zawodowe\\aplikacje desktopowe\\venv\\lib\\site-packages (from lale==0.5.3) (4.1.2)\n",
      "Requirement already satisfied: appdirs in c:\\users\\kacpe\\desktop\\przedmioty zawodowe\\aplikacje desktopowe\\venv\\lib\\site-packages (from black==19.10b0->lale==0.5.3) (1.4.4)\n",
      "Requirement already satisfied: attrs>=18.1.0 in c:\\users\\kacpe\\desktop\\przedmioty zawodowe\\aplikacje desktopowe\\venv\\lib\\site-packages (from black==19.10b0->lale==0.5.3) (21.2.0)\n"
     ]
    },
    {
     "name": "stderr",
     "output_type": "stream",
     "text": [
      "WARNING: You are using pip version 20.2.3; however, version 21.3.1 is available.\n",
      "You should consider upgrading via the 'c:\\users\\kacpe\\desktop\\przedmioty zawodowe\\aplikacje desktopowe\\venv\\scripts\\python.exe -m pip install --upgrade pip' command.\n"
     ]
    },
    {
     "name": "stdout",
     "output_type": "stream",
     "text": [
      "Requirement already satisfied: regex in c:\\users\\kacpe\\desktop\\przedmioty zawodowe\\aplikacje desktopowe\\venv\\lib\\site-packages (from black==19.10b0->lale==0.5.3) (2021.10.23)\n",
      "Requirement already satisfied: pathspec<1,>=0.6 in c:\\users\\kacpe\\desktop\\przedmioty zawodowe\\aplikacje desktopowe\\venv\\lib\\site-packages (from black==19.10b0->lale==0.5.3) (0.9.0)\n",
      "Requirement already satisfied: toml>=0.9.4 in c:\\users\\kacpe\\desktop\\przedmioty zawodowe\\aplikacje desktopowe\\venv\\lib\\site-packages (from black==19.10b0->lale==0.5.3) (0.10.2)\n",
      "Requirement already satisfied: click>=6.5 in c:\\users\\kacpe\\desktop\\przedmioty zawodowe\\aplikacje desktopowe\\venv\\lib\\site-packages (from black==19.10b0->lale==0.5.3) (8.0.3)\n",
      "Requirement already satisfied: typed-ast>=1.4.0 in c:\\users\\kacpe\\desktop\\przedmioty zawodowe\\aplikacje desktopowe\\venv\\lib\\site-packages (from black==19.10b0->lale==0.5.3) (1.4.3)\n",
      "Requirement already satisfied: wheel<1.0,>=0.23.0 in c:\\users\\kacpe\\desktop\\przedmioty zawodowe\\aplikacje desktopowe\\venv\\lib\\site-packages (from astunparse->lale==0.5.3) (0.37.0)\n",
      "Requirement already satisfied: six<2.0,>=1.6.1 in c:\\users\\kacpe\\desktop\\przedmioty zawodowe\\aplikacje desktopowe\\venv\\lib\\site-packages (from astunparse->lale==0.5.3) (1.15.0)\n",
      "Requirement already satisfied: pytz>=2017.3 in c:\\users\\kacpe\\desktop\\przedmioty zawodowe\\aplikacje desktopowe\\venv\\lib\\site-packages (from pandas->lale==0.5.3) (2021.3)\n",
      "Requirement already satisfied: python-dateutil>=2.7.3 in c:\\users\\kacpe\\desktop\\przedmioty zawodowe\\aplikacje desktopowe\\venv\\lib\\site-packages (from pandas->lale==0.5.3) (2.8.1)\n",
      "Requirement already satisfied: portion in c:\\users\\kacpe\\desktop\\przedmioty zawodowe\\aplikacje desktopowe\\venv\\lib\\site-packages (from jsonsubschema->lale==0.5.3) (2.2.0)\n",
      "Requirement already satisfied: greenery in c:\\users\\kacpe\\desktop\\przedmioty zawodowe\\aplikacje desktopowe\\venv\\lib\\site-packages (from jsonsubschema->lale==0.5.3) (3.3.2)\n",
      "Requirement already satisfied: jsonref in c:\\users\\kacpe\\desktop\\przedmioty zawodowe\\aplikacje desktopowe\\venv\\lib\\site-packages (from jsonsubschema->lale==0.5.3) (0.2)\n",
      "Requirement already satisfied: joblib>=0.11 in c:\\users\\kacpe\\desktop\\przedmioty zawodowe\\aplikacje desktopowe\\venv\\lib\\site-packages (from scikit-learn>=0.20.3->lale==0.5.3) (1.1.0)\n",
      "Requirement already satisfied: threadpoolctl>=2.0.0 in c:\\users\\kacpe\\desktop\\przedmioty zawodowe\\aplikacje desktopowe\\venv\\lib\\site-packages (from scikit-learn>=0.20.3->lale==0.5.3) (3.0.0)\n",
      "Requirement already satisfied: networkx>=2.2 in c:\\users\\kacpe\\desktop\\przedmioty zawodowe\\aplikacje desktopowe\\venv\\lib\\site-packages (from hyperopt->lale==0.5.3) (2.6.3)\n",
      "Requirement already satisfied: tqdm in c:\\users\\kacpe\\desktop\\przedmioty zawodowe\\aplikacje desktopowe\\venv\\lib\\site-packages (from hyperopt->lale==0.5.3) (4.62.3)\n",
      "Requirement already satisfied: cloudpickle in c:\\users\\kacpe\\desktop\\przedmioty zawodowe\\aplikacje desktopowe\\venv\\lib\\site-packages (from hyperopt->lale==0.5.3) (2.0.0)\n",
      "Requirement already satisfied: future in c:\\users\\kacpe\\desktop\\przedmioty zawodowe\\aplikacje desktopowe\\venv\\lib\\site-packages (from hyperopt->lale==0.5.3) (0.18.2)\n",
      "Requirement already satisfied: pyrsistent!=0.17.0,!=0.17.1,!=0.17.2,>=0.14.0 in c:\\users\\kacpe\\desktop\\przedmioty zawodowe\\aplikacje desktopowe\\venv\\lib\\site-packages (from jsonschema->lale==0.5.3) (0.18.0)\n",
      "Requirement already satisfied: colorama; platform_system == \"Windows\" in c:\\users\\kacpe\\desktop\\przedmioty zawodowe\\aplikacje desktopowe\\venv\\lib\\site-packages (from click>=6.5->black==19.10b0->lale==0.5.3) (0.4.4)\n",
      "Requirement already satisfied: sortedcontainers~=2.2 in c:\\users\\kacpe\\desktop\\przedmioty zawodowe\\aplikacje desktopowe\\venv\\lib\\site-packages (from portion->jsonsubschema->lale==0.5.3) (2.4.0)\n",
      "Requirement already satisfied: joblib in c:\\users\\kacpe\\desktop\\przedmioty zawodowe\\aplikacje desktopowe\\venv\\lib\\site-packages (1.1.0)\n"
     ]
    },
    {
     "name": "stderr",
     "output_type": "stream",
     "text": [
      "WARNING: You are using pip version 20.2.3; however, version 21.3.1 is available.\n",
      "You should consider upgrading via the 'c:\\users\\kacpe\\desktop\\przedmioty zawodowe\\aplikacje desktopowe\\venv\\scripts\\python.exe -m pip install --upgrade pip' command.\n"
     ]
    }
   ],
   "source": [
    "!pip install -U autoai-libs==1.12.13 \n",
    "!pip install -U scikit-learn==0.23.2 \n",
    "!pip install -U lightgbm==3.1.1 \n",
    "!pip install pandas \n",
    "!pip install lale==0.5.3\n",
    "!pip install joblib\n",
    "\n"
   ]
  },
  {
   "cell_type": "markdown",
   "metadata": {
    "pycharm": {
     "name": "#%% md\n"
    }
   },
   "source": [
    "<a id=\"read\"></a>\n",
    "## Read training data\n",
    "\n",
    "Retrieve training dataset from AutoAI experiment as pandas DataFrame.\n",
    "\n",
    "**Note**: If reading data results in an error, provide data as Pandas DataFrame object, for example, reading .CSV file with `pandas.read_csv()`"
   ]
  },
  {
   "cell_type": "code",
   "execution_count": 21,
   "metadata": {
    "execution": {
     "iopub.execute_input": "2020-10-12T14:01:16.076169Z",
     "iopub.status.busy": "2020-10-12T14:01:16.075589Z",
     "iopub.status.idle": "2020-10-12T14:01:19.190233Z",
     "shell.execute_reply": "2020-10-12T14:01:19.190807Z"
    },
    "pycharm": {
     "is_executing": true,
     "name": "#%%\n"
    }
   },
   "outputs": [],
   "source": [
    "import pandas as pd\n",
    "from sklearn.model_selection import train_test_split\n",
    "\n",
    "df = pd.read_csv('C:/Users/kacpe/Desktop/german_credit_data_biased_training.csv', encoding = \"utf-8\")\n",
    "df_X = df.drop('Risk', axis=1)\n",
    "df_y = df.Risk\n",
    "train_X, test_X, train_y, test_y = train_test_split(df_X, df_y, test_size=0.1, random_state=33, stratify=df_y)"
   ]
  },
  {
   "cell_type": "code",
   "execution_count": 22,
   "metadata": {},
   "outputs": [
    {
     "data": {
      "text/html": [
       "<div>\n",
       "<style scoped>\n",
       "    .dataframe tbody tr th:only-of-type {\n",
       "        vertical-align: middle;\n",
       "    }\n",
       "\n",
       "    .dataframe tbody tr th {\n",
       "        vertical-align: top;\n",
       "    }\n",
       "\n",
       "    .dataframe thead th {\n",
       "        text-align: right;\n",
       "    }\n",
       "</style>\n",
       "<table border=\"1\" class=\"dataframe\">\n",
       "  <thead>\n",
       "    <tr style=\"text-align: right;\">\n",
       "      <th></th>\n",
       "      <th>CheckingStatus</th>\n",
       "      <th>LoanDuration</th>\n",
       "      <th>CreditHistory</th>\n",
       "      <th>LoanPurpose</th>\n",
       "      <th>LoanAmount</th>\n",
       "      <th>ExistingSavings</th>\n",
       "      <th>EmploymentDuration</th>\n",
       "      <th>InstallmentPercent</th>\n",
       "      <th>Sex</th>\n",
       "      <th>OthersOnLoan</th>\n",
       "      <th>CurrentResidenceDuration</th>\n",
       "      <th>OwnsProperty</th>\n",
       "      <th>Age</th>\n",
       "      <th>InstallmentPlans</th>\n",
       "      <th>Housing</th>\n",
       "      <th>ExistingCreditsCount</th>\n",
       "      <th>Job</th>\n",
       "      <th>Dependents</th>\n",
       "      <th>Telephone</th>\n",
       "      <th>ForeignWorker</th>\n",
       "    </tr>\n",
       "  </thead>\n",
       "  <tbody>\n",
       "    <tr>\n",
       "      <th>4144</th>\n",
       "      <td>less_0</td>\n",
       "      <td>4</td>\n",
       "      <td>credits_paid_to_date</td>\n",
       "      <td>car_new</td>\n",
       "      <td>1269</td>\n",
       "      <td>less_100</td>\n",
       "      <td>1_to_4</td>\n",
       "      <td>3</td>\n",
       "      <td>female</td>\n",
       "      <td>none</td>\n",
       "      <td>3</td>\n",
       "      <td>real_estate</td>\n",
       "      <td>31</td>\n",
       "      <td>bank</td>\n",
       "      <td>rent</td>\n",
       "      <td>1</td>\n",
       "      <td>unskilled</td>\n",
       "      <td>1</td>\n",
       "      <td>none</td>\n",
       "      <td>yes</td>\n",
       "    </tr>\n",
       "    <tr>\n",
       "      <th>4707</th>\n",
       "      <td>less_0</td>\n",
       "      <td>16</td>\n",
       "      <td>credits_paid_to_date</td>\n",
       "      <td>furniture</td>\n",
       "      <td>1130</td>\n",
       "      <td>less_100</td>\n",
       "      <td>less_1</td>\n",
       "      <td>1</td>\n",
       "      <td>female</td>\n",
       "      <td>none</td>\n",
       "      <td>1</td>\n",
       "      <td>real_estate</td>\n",
       "      <td>30</td>\n",
       "      <td>stores</td>\n",
       "      <td>rent</td>\n",
       "      <td>1</td>\n",
       "      <td>skilled</td>\n",
       "      <td>1</td>\n",
       "      <td>none</td>\n",
       "      <td>yes</td>\n",
       "    </tr>\n",
       "    <tr>\n",
       "      <th>3455</th>\n",
       "      <td>less_0</td>\n",
       "      <td>14</td>\n",
       "      <td>all_credits_paid_back</td>\n",
       "      <td>furniture</td>\n",
       "      <td>250</td>\n",
       "      <td>less_100</td>\n",
       "      <td>4_to_7</td>\n",
       "      <td>3</td>\n",
       "      <td>male</td>\n",
       "      <td>none</td>\n",
       "      <td>2</td>\n",
       "      <td>real_estate</td>\n",
       "      <td>24</td>\n",
       "      <td>none</td>\n",
       "      <td>own</td>\n",
       "      <td>1</td>\n",
       "      <td>skilled</td>\n",
       "      <td>1</td>\n",
       "      <td>none</td>\n",
       "      <td>yes</td>\n",
       "    </tr>\n",
       "    <tr>\n",
       "      <th>3106</th>\n",
       "      <td>less_0</td>\n",
       "      <td>4</td>\n",
       "      <td>all_credits_paid_back</td>\n",
       "      <td>car_new</td>\n",
       "      <td>250</td>\n",
       "      <td>100_to_500</td>\n",
       "      <td>1_to_4</td>\n",
       "      <td>2</td>\n",
       "      <td>female</td>\n",
       "      <td>none</td>\n",
       "      <td>2</td>\n",
       "      <td>real_estate</td>\n",
       "      <td>33</td>\n",
       "      <td>bank</td>\n",
       "      <td>rent</td>\n",
       "      <td>1</td>\n",
       "      <td>unemployed</td>\n",
       "      <td>1</td>\n",
       "      <td>none</td>\n",
       "      <td>yes</td>\n",
       "    </tr>\n",
       "    <tr>\n",
       "      <th>2720</th>\n",
       "      <td>greater_200</td>\n",
       "      <td>46</td>\n",
       "      <td>prior_payments_delayed</td>\n",
       "      <td>furniture</td>\n",
       "      <td>2546</td>\n",
       "      <td>500_to_1000</td>\n",
       "      <td>greater_7</td>\n",
       "      <td>4</td>\n",
       "      <td>male</td>\n",
       "      <td>guarantor</td>\n",
       "      <td>2</td>\n",
       "      <td>savings_insurance</td>\n",
       "      <td>36</td>\n",
       "      <td>stores</td>\n",
       "      <td>free</td>\n",
       "      <td>1</td>\n",
       "      <td>unskilled</td>\n",
       "      <td>1</td>\n",
       "      <td>yes</td>\n",
       "      <td>yes</td>\n",
       "    </tr>\n",
       "  </tbody>\n",
       "</table>\n",
       "</div>"
      ],
      "text/plain": [
       "     CheckingStatus  LoanDuration           CreditHistory LoanPurpose  \\\n",
       "4144         less_0             4    credits_paid_to_date     car_new   \n",
       "4707         less_0            16    credits_paid_to_date   furniture   \n",
       "3455         less_0            14   all_credits_paid_back   furniture   \n",
       "3106         less_0             4   all_credits_paid_back     car_new   \n",
       "2720    greater_200            46  prior_payments_delayed   furniture   \n",
       "\n",
       "      LoanAmount ExistingSavings EmploymentDuration  InstallmentPercent  \\\n",
       "4144        1269        less_100             1_to_4                   3   \n",
       "4707        1130        less_100             less_1                   1   \n",
       "3455         250        less_100             4_to_7                   3   \n",
       "3106         250      100_to_500             1_to_4                   2   \n",
       "2720        2546     500_to_1000          greater_7                   4   \n",
       "\n",
       "         Sex OthersOnLoan  CurrentResidenceDuration       OwnsProperty  Age  \\\n",
       "4144  female         none                         3        real_estate   31   \n",
       "4707  female         none                         1        real_estate   30   \n",
       "3455    male         none                         2        real_estate   24   \n",
       "3106  female         none                         2        real_estate   33   \n",
       "2720    male    guarantor                         2  savings_insurance   36   \n",
       "\n",
       "     InstallmentPlans Housing  ExistingCreditsCount         Job  Dependents  \\\n",
       "4144             bank    rent                     1   unskilled           1   \n",
       "4707           stores    rent                     1     skilled           1   \n",
       "3455             none     own                     1     skilled           1   \n",
       "3106             bank    rent                     1  unemployed           1   \n",
       "2720           stores    free                     1   unskilled           1   \n",
       "\n",
       "     Telephone ForeignWorker  \n",
       "4144      none           yes  \n",
       "4707      none           yes  \n",
       "3455      none           yes  \n",
       "3106      none           yes  \n",
       "2720       yes           yes  "
      ]
     },
     "execution_count": 22,
     "metadata": {},
     "output_type": "execute_result"
    }
   ],
   "source": [
    "train_X.head()"
   ]
  },
  {
   "cell_type": "code",
   "execution_count": 23,
   "metadata": {},
   "outputs": [
    {
     "data": {
      "text/plain": [
       "4144    No Risk\n",
       "4707    No Risk\n",
       "3455    No Risk\n",
       "3106    No Risk\n",
       "2720       Risk\n",
       "Name: Risk, dtype: object"
      ]
     },
     "execution_count": 23,
     "metadata": {},
     "output_type": "execute_result"
    }
   ],
   "source": [
    "train_y.head()"
   ]
  },
  {
   "cell_type": "code",
   "execution_count": null,
   "metadata": {},
   "outputs": [],
   "source": []
  },
  {
   "cell_type": "markdown",
   "metadata": {
    "pycharm": {
     "name": "#%% md\n"
    }
   },
   "source": [
    "<a id=\"preview_model_to_python_code\"></a>\n",
    "## Make pipeline\n",
    "In the next cell, you can find the Scikit-learn definition of the selected AutoAI pipeline."
   ]
  },
  {
   "cell_type": "markdown",
   "metadata": {
    "pycharm": {
     "name": "#%% md\n"
    }
   },
   "source": [
    "#### Import statements."
   ]
  },
  {
   "cell_type": "code",
   "execution_count": 24,
   "metadata": {
    "pycharm": {
     "is_executing": true,
     "name": "#%%\n"
    }
   },
   "outputs": [],
   "source": [
    "from autoai_libs.transformers.exportable import NumpyColumnSelector\n",
    "from autoai_libs.transformers.exportable import CompressStrings\n",
    "from autoai_libs.transformers.exportable import NumpyReplaceMissingValues\n",
    "from autoai_libs.transformers.exportable import NumpyReplaceUnknownValues\n",
    "from autoai_libs.transformers.exportable import boolean2float\n",
    "from autoai_libs.transformers.exportable import CatImputer\n",
    "from autoai_libs.transformers.exportable import CatEncoder\n",
    "import numpy as np\n",
    "from autoai_libs.transformers.exportable import float32_transform\n",
    "from sklearn.pipeline import make_pipeline\n",
    "from autoai_libs.transformers.exportable import FloatStr2Float\n",
    "from autoai_libs.transformers.exportable import NumImputer\n",
    "from autoai_libs.transformers.exportable import OptStandardScaler\n",
    "from sklearn.pipeline import make_union\n",
    "from autoai_libs.transformers.exportable import NumpyPermuteArray\n",
    "from autoai_libs.cognito.transforms.transform_utils import TA1\n",
    "import autoai_libs.utils.fc_methods\n",
    "from autoai_libs.cognito.transforms.transform_utils import FS1\n",
    "from autoai_libs.cognito.transforms.transform_utils import TAM\n",
    "from sklearn.decomposition import PCA\n",
    "from lightgbm.sklearn import LGBMClassifier"
   ]
  },
  {
   "cell_type": "markdown",
   "metadata": {},
   "source": [
    "#### Pre-processing & Estimator."
   ]
  },
  {
   "cell_type": "code",
   "execution_count": 25,
   "metadata": {
    "pycharm": {
     "is_executing": true,
     "name": "#%%\n"
    }
   },
   "outputs": [],
   "source": [
    "numpy_column_selector_0 = NumpyColumnSelector(\n",
    "    columns=[\n",
    "        0, 1, 2, 3, 5, 6, 7, 8, 9, 10, 11, 12, 13, 14, 15, 16, 17, 18, 19,\n",
    "    ]\n",
    ")\n",
    "compress_strings = CompressStrings(\n",
    "    compress_type=\"hash\",\n",
    "    dtypes_list=[\n",
    "        \"char_str\", \"int_num\", \"char_str\", \"char_str\", \"char_str\", \"char_str\",\n",
    "        \"int_num\", \"char_str\", \"char_str\", \"int_num\", \"char_str\", \"int_num\",\n",
    "        \"char_str\", \"char_str\", \"int_num\", \"char_str\", \"int_num\", \"char_str\",\n",
    "        \"char_str\",\n",
    "    ],\n",
    "    missing_values_reference_list=[\"\", \"-\", \"?\", float(\"nan\")],\n",
    "    misslist_list=[\n",
    "        [], [], [], [], [], [], [], [], [], [], [], [], [], [], [], [], [],\n",
    "        [], [],\n",
    "    ],\n",
    ")\n",
    "numpy_replace_missing_values_0 = NumpyReplaceMissingValues(\n",
    "    missing_values=[], filling_values=float(\"nan\")\n",
    ")\n",
    "numpy_replace_unknown_values = NumpyReplaceUnknownValues(\n",
    "    filling_values=float(\"nan\"),\n",
    "    filling_values_list=[\n",
    "        float(\"nan\"), float(\"nan\"), float(\"nan\"), float(\"nan\"), float(\"nan\"),\n",
    "        float(\"nan\"), float(\"nan\"), float(\"nan\"), float(\"nan\"), float(\"nan\"),\n",
    "        float(\"nan\"), float(\"nan\"), float(\"nan\"), float(\"nan\"), float(\"nan\"),\n",
    "        float(\"nan\"), float(\"nan\"), float(\"nan\"), float(\"nan\"),\n",
    "    ],\n",
    "    missing_values_reference_list=[\"\", \"-\", \"?\", float(\"nan\")],\n",
    ")\n",
    "cat_imputer = CatImputer(\n",
    "    strategy=\"most_frequent\",\n",
    "    missing_values=float(\"nan\"),\n",
    "    sklearn_version_family=\"23\",\n",
    ")\n",
    "cat_encoder = CatEncoder(\n",
    "    encoding=\"ordinal\",\n",
    "    categories=\"auto\",\n",
    "    dtype=np.float64,\n",
    "    handle_unknown=\"error\",\n",
    "    sklearn_version_family=\"23\",\n",
    ")\n",
    "pipeline_0 = make_pipeline(\n",
    "    numpy_column_selector_0,\n",
    "    compress_strings,\n",
    "    numpy_replace_missing_values_0,\n",
    "    numpy_replace_unknown_values,\n",
    "    boolean2float(),\n",
    "    cat_imputer,\n",
    "    cat_encoder,\n",
    "    float32_transform(),\n",
    ")\n",
    "numpy_column_selector_1 = NumpyColumnSelector(columns=[4])\n",
    "float_str2_float = FloatStr2Float(\n",
    "    dtypes_list=[\"int_num\"], missing_values_reference_list=[]\n",
    ")\n",
    "numpy_replace_missing_values_1 = NumpyReplaceMissingValues(\n",
    "    missing_values=[], filling_values=float(\"nan\")\n",
    ")\n",
    "num_imputer = NumImputer(strategy=\"median\", missing_values=float(\"nan\"))\n",
    "opt_standard_scaler = OptStandardScaler(\n",
    "    num_scaler_copy=None,\n",
    "    num_scaler_with_mean=None,\n",
    "    num_scaler_with_std=None,\n",
    "    use_scaler_flag=False,\n",
    ")\n",
    "pipeline_1 = make_pipeline(\n",
    "    numpy_column_selector_1,\n",
    "    float_str2_float,\n",
    "    numpy_replace_missing_values_1,\n",
    "    num_imputer,\n",
    "    opt_standard_scaler,\n",
    "    float32_transform(),\n",
    ")\n",
    "union = make_union(pipeline_0, pipeline_1)\n",
    "numpy_permute_array = NumpyPermuteArray(\n",
    "    axis=0,\n",
    "    permutation_indices=[\n",
    "        0, 1, 2, 3, 5, 6, 7, 8, 9, 10, 11, 12, 13, 14, 15, 16, 17, 18, 19, 4,\n",
    "    ],\n",
    ")\n",
    "ta1 = TA1(\n",
    "    fun=np.log,\n",
    "    name=\"log\",\n",
    "    datatypes=[\"numeric\"],\n",
    "    feat_constraints=[\n",
    "        autoai_libs.utils.fc_methods.is_positive,\n",
    "        autoai_libs.utils.fc_methods.is_not_categorical,\n",
    "    ],\n",
    "    col_names=[\n",
    "        \"CheckingStatus\", \"LoanDuration\", \"CreditHistory\", \"LoanPurpose\",\n",
    "        \"LoanAmount\", \"ExistingSavings\", \"EmploymentDuration\",\n",
    "        \"InstallmentPercent\", \"Sex\", \"OthersOnLoan\",\n",
    "        \"CurrentResidenceDuration\", \"OwnsProperty\", \"Age\", \"InstallmentPlans\",\n",
    "        \"Housing\", \"ExistingCreditsCount\", \"Job\", \"Dependents\", \"Telephone\",\n",
    "        \"ForeignWorker\",\n",
    "    ],\n",
    "    col_dtypes=[\n",
    "        np.dtype(\"float32\"), np.dtype(\"float32\"), np.dtype(\"float32\"),\n",
    "        np.dtype(\"float32\"), np.dtype(\"float32\"), np.dtype(\"float32\"),\n",
    "        np.dtype(\"float32\"), np.dtype(\"float32\"), np.dtype(\"float32\"),\n",
    "        np.dtype(\"float32\"), np.dtype(\"float32\"), np.dtype(\"float32\"),\n",
    "        np.dtype(\"float32\"), np.dtype(\"float32\"), np.dtype(\"float32\"),\n",
    "        np.dtype(\"float32\"), np.dtype(\"float32\"), np.dtype(\"float32\"),\n",
    "        np.dtype(\"float32\"), np.dtype(\"float32\"),\n",
    "    ],\n",
    ")\n",
    "fs1_0 = FS1(\n",
    "    cols_ids_must_keep=range(0, 20),\n",
    "    additional_col_count_to_keep=20,\n",
    "    ptype=\"classification\",\n",
    ")\n",
    "tam = TAM(\n",
    "    tans_class=PCA(),\n",
    "    name=\"pca\",\n",
    "    col_names=[\n",
    "        \"CheckingStatus\", \"LoanDuration\", \"CreditHistory\", \"LoanPurpose\",\n",
    "        \"LoanAmount\", \"ExistingSavings\", \"EmploymentDuration\",\n",
    "        \"InstallmentPercent\", \"Sex\", \"OthersOnLoan\",\n",
    "        \"CurrentResidenceDuration\", \"OwnsProperty\", \"Age\", \"InstallmentPlans\",\n",
    "        \"Housing\", \"ExistingCreditsCount\", \"Job\", \"Dependents\", \"Telephone\",\n",
    "        \"ForeignWorker\", \"log(LoanDuration)\", \"log(LoanAmount)\", \"log(Age)\",\n",
    "    ],\n",
    "    col_dtypes=[\n",
    "        np.dtype(\"float32\"), np.dtype(\"float32\"), np.dtype(\"float32\"),\n",
    "        np.dtype(\"float32\"), np.dtype(\"float32\"), np.dtype(\"float32\"),\n",
    "        np.dtype(\"float32\"), np.dtype(\"float32\"), np.dtype(\"float32\"),\n",
    "        np.dtype(\"float32\"), np.dtype(\"float32\"), np.dtype(\"float32\"),\n",
    "        np.dtype(\"float32\"), np.dtype(\"float32\"), np.dtype(\"float32\"),\n",
    "        np.dtype(\"float32\"), np.dtype(\"float32\"), np.dtype(\"float32\"),\n",
    "        np.dtype(\"float32\"), np.dtype(\"float32\"), np.dtype(\"float32\"),\n",
    "        np.dtype(\"float32\"), np.dtype(\"float32\"),\n",
    "    ],\n",
    ")\n",
    "fs1_1 = FS1(\n",
    "    cols_ids_must_keep=range(0, 20),\n",
    "    additional_col_count_to_keep=20,\n",
    "    ptype=\"classification\",\n",
    ")\n",
    "lgbm_classifier = LGBMClassifier(\n",
    "    class_weight=\"balanced\",\n",
    "    colsample_bytree=0.6630873122491916,\n",
    "    learning_rate=0.7253594972455494,\n",
    "    min_child_samples=19,\n",
    "    min_child_weight=0.00424841899293295,\n",
    "    n_estimators=640,\n",
    "    num_leaves=32,\n",
    "    random_state=33,\n",
    "    reg_alpha=0.00024836917720855287,\n",
    "    reg_lambda=0.7211028773552123,\n",
    "    subsample=0.9751191846731722,\n",
    "    subsample_freq=5,\n",
    ")\n"
   ]
  },
  {
   "cell_type": "markdown",
   "metadata": {},
   "source": [
    "#### Pipeline."
   ]
  },
  {
   "cell_type": "code",
   "execution_count": 26,
   "metadata": {
    "pycharm": {
     "is_executing": true,
     "name": "#%%\n"
    }
   },
   "outputs": [],
   "source": [
    "pipeline = make_pipeline(\n",
    "    union, numpy_permute_array, ta1, fs1_0, tam, fs1_1, lgbm_classifier\n",
    ")"
   ]
  },
  {
   "cell_type": "markdown",
   "metadata": {},
   "source": [
    "Pipeline visualisation - unfotunatelly it doesn't work, we found bug for Windows. We need to develop how to fix it."
   ]
  },
  {
   "cell_type": "markdown",
   "metadata": {},
   "source": [
    "<a id=\"train\"></a>\n",
    "## Train pipeline model\n"
   ]
  },
  {
   "cell_type": "markdown",
   "metadata": {
    "pycharm": {
     "name": "#%% md\n"
    }
   },
   "source": [
    "### Define scorer from the optimization metric\n",
    "This cell constructs the cell scorer based on the experiment metadata."
   ]
  },
  {
   "cell_type": "code",
   "execution_count": 27,
   "metadata": {
    "pycharm": {
     "is_executing": true,
     "name": "#%%\n"
    }
   },
   "outputs": [],
   "source": [
    "from sklearn.metrics import get_scorer\n",
    "\n",
    "scorer = get_scorer(\"accuracy\")"
   ]
  },
  {
   "cell_type": "markdown",
   "metadata": {
    "pycharm": {
     "name": "#%% md\n"
    }
   },
   "source": [
    "<a id=\"test_model\"></a>\n",
    "### Fit pipeline model\n",
    "In this cell, the pipeline is fitted."
   ]
  },
  {
   "cell_type": "code",
   "execution_count": 28,
   "metadata": {
    "execution": {
     "iopub.execute_input": "2020-10-12T14:01:19.291734Z",
     "iopub.status.busy": "2020-10-12T14:01:19.244735Z",
     "iopub.status.idle": "2020-10-12T14:01:19.338461Z",
     "shell.execute_reply": "2020-10-12T14:01:19.338958Z"
    },
    "pycharm": {
     "is_executing": true,
     "name": "#%%\n"
    },
    "scrolled": true
   },
   "outputs": [
    {
     "name": "stderr",
     "output_type": "stream",
     "text": [
      "c:\\users\\kacpe\\desktop\\przedmioty zawodowe\\aplikacje desktopowe\\venv\\lib\\site-packages\\sklearn\\base.py:693: RuntimeWarning: divide by zero encountered in log\n",
      "  return self.fit(X, y, **fit_params).transform(X)\n"
     ]
    }
   ],
   "source": [
    "pipeline.fit(train_X.values, train_y.values);"
   ]
  },
  {
   "cell_type": "markdown",
   "metadata": {},
   "source": [
    "<a id=\"test_model\"></a>\n",
    "## Test pipeline model"
   ]
  },
  {
   "cell_type": "markdown",
   "metadata": {
    "pycharm": {
     "name": "#%% md\n"
    }
   },
   "source": [
    "Score the fitted pipeline with the generated scorer using the holdout dataset."
   ]
  },
  {
   "cell_type": "code",
   "execution_count": 29,
   "metadata": {
    "execution": {
     "iopub.execute_input": "2020-10-12T14:02:03.910267Z",
     "iopub.status.busy": "2020-10-12T14:02:03.909710Z",
     "iopub.status.idle": "2020-10-12T14:02:03.914154Z",
     "shell.execute_reply": "2020-10-12T14:02:03.914727Z"
    },
    "pycharm": {
     "is_executing": true,
     "name": "#%%\n"
    }
   },
   "outputs": [
    {
     "name": "stdout",
     "output_type": "stream",
     "text": [
      "0.776\n"
     ]
    },
    {
     "name": "stderr",
     "output_type": "stream",
     "text": [
      "c:\\users\\kacpe\\desktop\\przedmioty zawodowe\\aplikacje desktopowe\\venv\\lib\\site-packages\\sklearn\\pipeline.py:407: RuntimeWarning: divide by zero encountered in log\n",
      "  Xt = transform.transform(Xt)\n"
     ]
    }
   ],
   "source": [
    "score = scorer(pipeline, test_X.values, test_y.values)\n",
    "print(score)"
   ]
  },
  {
   "cell_type": "code",
   "execution_count": 30,
   "metadata": {
    "pycharm": {
     "name": "#%%\n"
    }
   },
   "outputs": [
    {
     "name": "stderr",
     "output_type": "stream",
     "text": [
      "c:\\users\\kacpe\\desktop\\przedmioty zawodowe\\aplikacje desktopowe\\venv\\lib\\site-packages\\sklearn\\pipeline.py:407: RuntimeWarning: divide by zero encountered in log\n",
      "  Xt = transform.transform(Xt)\n"
     ]
    },
    {
     "data": {
      "text/plain": [
       "array(['No Risk', 'Risk', 'No Risk', 'No Risk', 'No Risk', 'Risk', 'Risk',\n",
       "       'No Risk', 'Risk', 'No Risk', 'No Risk', 'No Risk', 'No Risk',\n",
       "       'Risk', 'No Risk', 'Risk', 'Risk', 'No Risk', 'No Risk', 'No Risk',\n",
       "       'No Risk', 'No Risk', 'No Risk', 'Risk', 'No Risk', 'Risk', 'Risk',\n",
       "       'No Risk', 'No Risk', 'Risk', 'No Risk', 'No Risk', 'No Risk',\n",
       "       'No Risk', 'Risk', 'Risk', 'No Risk', 'No Risk', 'No Risk',\n",
       "       'No Risk', 'No Risk', 'No Risk', 'No Risk', 'Risk', 'Risk',\n",
       "       'No Risk', 'Risk', 'No Risk', 'Risk', 'Risk', 'No Risk', 'No Risk',\n",
       "       'No Risk', 'No Risk', 'Risk', 'No Risk', 'No Risk', 'No Risk',\n",
       "       'Risk', 'Risk', 'No Risk', 'Risk', 'No Risk', 'No Risk', 'No Risk',\n",
       "       'No Risk', 'Risk', 'No Risk', 'No Risk', 'No Risk', 'Risk',\n",
       "       'No Risk', 'No Risk', 'No Risk', 'No Risk', 'Risk', 'Risk',\n",
       "       'No Risk', 'No Risk', 'No Risk', 'No Risk', 'No Risk', 'No Risk',\n",
       "       'Risk', 'No Risk', 'No Risk', 'Risk', 'Risk', 'No Risk', 'Risk',\n",
       "       'No Risk', 'Risk', 'No Risk', 'No Risk', 'No Risk', 'No Risk',\n",
       "       'No Risk', 'No Risk', 'Risk', 'No Risk', 'No Risk', 'No Risk',\n",
       "       'No Risk', 'Risk', 'No Risk', 'No Risk', 'No Risk', 'No Risk',\n",
       "       'Risk', 'Risk', 'No Risk', 'No Risk', 'No Risk', 'No Risk',\n",
       "       'No Risk', 'Risk', 'No Risk', 'Risk', 'No Risk', 'Risk', 'Risk',\n",
       "       'No Risk', 'No Risk', 'Risk', 'No Risk', 'No Risk', 'No Risk',\n",
       "       'No Risk', 'No Risk', 'Risk', 'No Risk', 'No Risk', 'Risk', 'Risk',\n",
       "       'No Risk', 'No Risk', 'Risk', 'No Risk', 'No Risk', 'No Risk',\n",
       "       'No Risk', 'No Risk', 'No Risk', 'No Risk', 'No Risk', 'Risk',\n",
       "       'Risk', 'No Risk', 'Risk', 'No Risk', 'No Risk', 'No Risk',\n",
       "       'No Risk', 'No Risk', 'No Risk', 'No Risk', 'No Risk', 'No Risk',\n",
       "       'No Risk', 'No Risk', 'No Risk', 'Risk', 'Risk', 'No Risk',\n",
       "       'No Risk', 'No Risk', 'No Risk', 'No Risk', 'No Risk', 'No Risk',\n",
       "       'No Risk', 'No Risk', 'No Risk', 'No Risk', 'Risk', 'No Risk',\n",
       "       'No Risk', 'Risk', 'No Risk', 'Risk', 'Risk', 'No Risk', 'Risk',\n",
       "       'No Risk', 'No Risk', 'Risk', 'No Risk', 'No Risk', 'No Risk',\n",
       "       'No Risk', 'No Risk', 'No Risk', 'Risk', 'No Risk', 'No Risk',\n",
       "       'No Risk', 'Risk', 'Risk', 'No Risk', 'No Risk', 'No Risk',\n",
       "       'No Risk', 'No Risk', 'No Risk', 'Risk', 'Risk', 'Risk', 'No Risk',\n",
       "       'No Risk', 'Risk', 'Risk', 'No Risk', 'Risk', 'No Risk', 'Risk',\n",
       "       'Risk', 'Risk', 'No Risk', 'No Risk', 'No Risk', 'No Risk',\n",
       "       'No Risk', 'No Risk', 'No Risk', 'No Risk', 'Risk', 'No Risk',\n",
       "       'No Risk', 'Risk', 'No Risk', 'No Risk', 'No Risk', 'No Risk',\n",
       "       'No Risk', 'No Risk', 'Risk', 'No Risk', 'No Risk', 'Risk',\n",
       "       'No Risk', 'No Risk', 'No Risk', 'Risk', 'No Risk', 'No Risk',\n",
       "       'No Risk', 'No Risk', 'No Risk', 'No Risk', 'No Risk', 'No Risk',\n",
       "       'Risk', 'Risk', 'No Risk', 'No Risk', 'No Risk', 'No Risk',\n",
       "       'No Risk', 'No Risk', 'No Risk', 'No Risk', 'Risk', 'Risk', 'Risk',\n",
       "       'No Risk', 'No Risk', 'No Risk', 'Risk', 'No Risk', 'No Risk',\n",
       "       'Risk', 'Risk', 'No Risk', 'Risk', 'Risk', 'No Risk', 'No Risk',\n",
       "       'Risk', 'No Risk', 'No Risk', 'Risk', 'Risk', 'Risk', 'Risk',\n",
       "       'No Risk', 'No Risk', 'Risk', 'No Risk', 'No Risk', 'No Risk',\n",
       "       'Risk', 'No Risk', 'No Risk', 'No Risk', 'No Risk', 'No Risk',\n",
       "       'No Risk', 'Risk', 'No Risk', 'No Risk', 'No Risk', 'Risk', 'Risk',\n",
       "       'No Risk', 'No Risk', 'Risk', 'No Risk', 'No Risk', 'No Risk',\n",
       "       'No Risk', 'No Risk', 'No Risk', 'No Risk', 'No Risk', 'No Risk',\n",
       "       'No Risk', 'No Risk', 'Risk', 'No Risk', 'No Risk', 'Risk',\n",
       "       'No Risk', 'No Risk', 'No Risk', 'No Risk', 'No Risk', 'Risk',\n",
       "       'No Risk', 'No Risk', 'No Risk', 'Risk', 'No Risk', 'No Risk',\n",
       "       'Risk', 'No Risk', 'Risk', 'No Risk', 'No Risk', 'No Risk',\n",
       "       'No Risk', 'No Risk', 'No Risk', 'Risk', 'Risk', 'No Risk',\n",
       "       'No Risk', 'No Risk', 'No Risk', 'Risk', 'No Risk', 'No Risk',\n",
       "       'No Risk', 'No Risk', 'No Risk', 'Risk', 'Risk', 'No Risk', 'Risk',\n",
       "       'No Risk', 'Risk', 'Risk', 'No Risk', 'No Risk', 'No Risk',\n",
       "       'No Risk', 'No Risk', 'No Risk', 'No Risk', 'No Risk', 'No Risk',\n",
       "       'Risk', 'No Risk', 'Risk', 'No Risk', 'Risk', 'No Risk', 'No Risk',\n",
       "       'No Risk', 'No Risk', 'No Risk', 'No Risk', 'No Risk', 'Risk',\n",
       "       'No Risk', 'No Risk', 'No Risk', 'No Risk', 'No Risk', 'No Risk',\n",
       "       'No Risk', 'No Risk', 'No Risk', 'No Risk', 'Risk', 'No Risk',\n",
       "       'No Risk', 'No Risk', 'Risk', 'No Risk', 'No Risk', 'No Risk',\n",
       "       'No Risk', 'No Risk', 'No Risk', 'No Risk', 'No Risk', 'No Risk',\n",
       "       'No Risk', 'No Risk', 'Risk', 'Risk', 'Risk', 'Risk', 'No Risk',\n",
       "       'Risk', 'Risk', 'No Risk', 'No Risk', 'No Risk', 'No Risk',\n",
       "       'No Risk', 'No Risk', 'No Risk', 'No Risk', 'No Risk', 'No Risk',\n",
       "       'No Risk', 'Risk', 'No Risk', 'No Risk', 'No Risk', 'Risk',\n",
       "       'No Risk', 'No Risk', 'No Risk', 'Risk', 'Risk', 'No Risk',\n",
       "       'No Risk', 'No Risk', 'Risk', 'No Risk', 'No Risk', 'No Risk',\n",
       "       'Risk', 'No Risk', 'No Risk', 'No Risk', 'Risk', 'Risk', 'No Risk',\n",
       "       'No Risk', 'Risk', 'No Risk', 'No Risk', 'Risk', 'No Risk',\n",
       "       'No Risk', 'Risk', 'Risk', 'No Risk', 'Risk', 'No Risk', 'No Risk',\n",
       "       'No Risk', 'Risk', 'No Risk', 'No Risk', 'No Risk', 'No Risk',\n",
       "       'Risk', 'Risk', 'No Risk', 'No Risk', 'Risk', 'No Risk', 'No Risk',\n",
       "       'No Risk', 'Risk', 'Risk', 'No Risk', 'Risk', 'No Risk', 'No Risk',\n",
       "       'Risk', 'No Risk', 'No Risk', 'Risk', 'No Risk', 'Risk', 'No Risk',\n",
       "       'Risk', 'Risk', 'Risk', 'No Risk', 'Risk', 'No Risk', 'No Risk',\n",
       "       'Risk', 'No Risk'], dtype=object)"
      ]
     },
     "execution_count": 30,
     "metadata": {},
     "output_type": "execute_result"
    }
   ],
   "source": [
    "pipeline.predict(test_X.values)"
   ]
  },
  {
   "cell_type": "code",
   "execution_count": null,
   "metadata": {},
   "outputs": [],
   "source": []
  }
 ],
 "metadata": {
  "kernelspec": {
   "display_name": "Python 3 (ipykernel)",
   "language": "python",
   "name": "python3"
  },
  "language_info": {
   "codemirror_mode": {
    "name": "ipython",
    "version": 3
   },
   "file_extension": ".py",
   "mimetype": "text/x-python",
   "name": "python",
   "nbconvert_exporter": "python",
   "pygments_lexer": "ipython3",
   "version": "3.8.10"
  }
 },
 "nbformat": 4,
 "nbformat_minor": 2
}
